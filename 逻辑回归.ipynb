{
 "cells": [
  {
   "cell_type": "code",
   "execution_count": 9,
   "metadata": {},
   "outputs": [],
   "source": [
    "import pandas as pd\n",
    "import tensorflow as tf\n",
    "import numpy as np\n",
    "import matplotlib.pyplot as plt\n",
    "%matplotlib inline"
   ]
  },
  {
   "cell_type": "code",
   "execution_count": 4,
   "metadata": {},
   "outputs": [],
   "source": [
    "data = pd.read_csv(\"./data/credit-a.csv\", header=None)"
   ]
  },
  {
   "cell_type": "code",
   "execution_count": 5,
   "metadata": {},
   "outputs": [
    {
     "data": {
      "text/html": [
       "<div>\n",
       "<style scoped>\n",
       "    .dataframe tbody tr th:only-of-type {\n",
       "        vertical-align: middle;\n",
       "    }\n",
       "\n",
       "    .dataframe tbody tr th {\n",
       "        vertical-align: top;\n",
       "    }\n",
       "\n",
       "    .dataframe thead th {\n",
       "        text-align: right;\n",
       "    }\n",
       "</style>\n",
       "<table border=\"1\" class=\"dataframe\">\n",
       "  <thead>\n",
       "    <tr style=\"text-align: right;\">\n",
       "      <th></th>\n",
       "      <th>0</th>\n",
       "      <th>1</th>\n",
       "      <th>2</th>\n",
       "      <th>3</th>\n",
       "      <th>4</th>\n",
       "      <th>5</th>\n",
       "      <th>6</th>\n",
       "      <th>7</th>\n",
       "      <th>8</th>\n",
       "      <th>9</th>\n",
       "      <th>10</th>\n",
       "      <th>11</th>\n",
       "      <th>12</th>\n",
       "      <th>13</th>\n",
       "      <th>14</th>\n",
       "      <th>15</th>\n",
       "    </tr>\n",
       "  </thead>\n",
       "  <tbody>\n",
       "    <tr>\n",
       "      <th>0</th>\n",
       "      <td>0</td>\n",
       "      <td>30.83</td>\n",
       "      <td>0.000</td>\n",
       "      <td>0</td>\n",
       "      <td>0</td>\n",
       "      <td>9</td>\n",
       "      <td>0</td>\n",
       "      <td>1.25</td>\n",
       "      <td>0</td>\n",
       "      <td>0</td>\n",
       "      <td>1</td>\n",
       "      <td>1</td>\n",
       "      <td>0</td>\n",
       "      <td>202</td>\n",
       "      <td>0.0</td>\n",
       "      <td>-1</td>\n",
       "    </tr>\n",
       "    <tr>\n",
       "      <th>1</th>\n",
       "      <td>1</td>\n",
       "      <td>58.67</td>\n",
       "      <td>4.460</td>\n",
       "      <td>0</td>\n",
       "      <td>0</td>\n",
       "      <td>8</td>\n",
       "      <td>1</td>\n",
       "      <td>3.04</td>\n",
       "      <td>0</td>\n",
       "      <td>0</td>\n",
       "      <td>6</td>\n",
       "      <td>1</td>\n",
       "      <td>0</td>\n",
       "      <td>43</td>\n",
       "      <td>560.0</td>\n",
       "      <td>-1</td>\n",
       "    </tr>\n",
       "    <tr>\n",
       "      <th>2</th>\n",
       "      <td>1</td>\n",
       "      <td>24.50</td>\n",
       "      <td>0.500</td>\n",
       "      <td>0</td>\n",
       "      <td>0</td>\n",
       "      <td>8</td>\n",
       "      <td>1</td>\n",
       "      <td>1.50</td>\n",
       "      <td>0</td>\n",
       "      <td>1</td>\n",
       "      <td>0</td>\n",
       "      <td>1</td>\n",
       "      <td>0</td>\n",
       "      <td>280</td>\n",
       "      <td>824.0</td>\n",
       "      <td>-1</td>\n",
       "    </tr>\n",
       "    <tr>\n",
       "      <th>3</th>\n",
       "      <td>0</td>\n",
       "      <td>27.83</td>\n",
       "      <td>1.540</td>\n",
       "      <td>0</td>\n",
       "      <td>0</td>\n",
       "      <td>9</td>\n",
       "      <td>0</td>\n",
       "      <td>3.75</td>\n",
       "      <td>0</td>\n",
       "      <td>0</td>\n",
       "      <td>5</td>\n",
       "      <td>0</td>\n",
       "      <td>0</td>\n",
       "      <td>100</td>\n",
       "      <td>3.0</td>\n",
       "      <td>-1</td>\n",
       "    </tr>\n",
       "    <tr>\n",
       "      <th>4</th>\n",
       "      <td>0</td>\n",
       "      <td>20.17</td>\n",
       "      <td>5.625</td>\n",
       "      <td>0</td>\n",
       "      <td>0</td>\n",
       "      <td>9</td>\n",
       "      <td>0</td>\n",
       "      <td>1.71</td>\n",
       "      <td>0</td>\n",
       "      <td>1</td>\n",
       "      <td>0</td>\n",
       "      <td>1</td>\n",
       "      <td>2</td>\n",
       "      <td>120</td>\n",
       "      <td>0.0</td>\n",
       "      <td>-1</td>\n",
       "    </tr>\n",
       "  </tbody>\n",
       "</table>\n",
       "</div>"
      ],
      "text/plain": [
       "   0      1      2   3   4   5   6     7   8   9   10  11  12   13     14  15\n",
       "0   0  30.83  0.000   0   0   9   0  1.25   0   0   1   1   0  202    0.0  -1\n",
       "1   1  58.67  4.460   0   0   8   1  3.04   0   0   6   1   0   43  560.0  -1\n",
       "2   1  24.50  0.500   0   0   8   1  1.50   0   1   0   1   0  280  824.0  -1\n",
       "3   0  27.83  1.540   0   0   9   0  3.75   0   0   5   0   0  100    3.0  -1\n",
       "4   0  20.17  5.625   0   0   9   0  1.71   0   1   0   1   2  120    0.0  -1"
      ]
     },
     "execution_count": 5,
     "metadata": {},
     "output_type": "execute_result"
    }
   ],
   "source": [
    "data.head()"
   ]
  },
  {
   "cell_type": "code",
   "execution_count": 8,
   "metadata": {},
   "outputs": [
    {
     "data": {
      "text/plain": [
       " 1    357\n",
       "-1    296\n",
       "Name: 15, dtype: int64"
      ]
     },
     "execution_count": 8,
     "metadata": {},
     "output_type": "execute_result"
    }
   ],
   "source": [
    "data.iloc[:,-1].value_counts()"
   ]
  },
  {
   "cell_type": "code",
   "execution_count": 29,
   "metadata": {},
   "outputs": [],
   "source": [
    "x = data.iloc[:, :-1]\n",
    "y = data.iloc[:, -1].replace(-1, 0)"
   ]
  },
  {
   "cell_type": "code",
   "execution_count": 30,
   "metadata": {},
   "outputs": [],
   "source": [
    "model = tf.keras.Sequential()"
   ]
  },
  {
   "cell_type": "code",
   "execution_count": 31,
   "metadata": {},
   "outputs": [],
   "source": [
    "model.add(tf.keras.layers.Dense(4, input_shape=(15, ), activation='relu'))\n",
    "model.add(tf.keras.layers.Dense(4, activation='relu'))\n",
    "model.add(tf.keras.layers.Dense(1, activation='sigmoid'))"
   ]
  },
  {
   "cell_type": "code",
   "execution_count": 32,
   "metadata": {},
   "outputs": [],
   "source": [
    "model.compile(\n",
    "    optimizer=\"adam\",\n",
    "    loss=\"binary_crossentropy\",\n",
    "    metrics=['acc']\n",
    ")"
   ]
  },
  {
   "cell_type": "code",
   "execution_count": 33,
   "metadata": {},
   "outputs": [
    {
     "name": "stdout",
     "output_type": "stream",
     "text": [
      "Model: \"sequential_1\"\n",
      "_________________________________________________________________\n",
      "Layer (type)                 Output Shape              Param #   \n",
      "=================================================================\n",
      "dense_3 (Dense)              (None, 4)                 64        \n",
      "_________________________________________________________________\n",
      "dense_4 (Dense)              (None, 4)                 20        \n",
      "_________________________________________________________________\n",
      "dense_5 (Dense)              (None, 1)                 5         \n",
      "=================================================================\n",
      "Total params: 89\n",
      "Trainable params: 89\n",
      "Non-trainable params: 0\n",
      "_________________________________________________________________\n"
     ]
    }
   ],
   "source": [
    "model.summary()"
   ]
  },
  {
   "cell_type": "code",
   "execution_count": 34,
   "metadata": {},
   "outputs": [
    {
     "name": "stdout",
     "output_type": "stream",
     "text": [
      "Epoch 1/100\n",
      "21/21 [==============================] - 0s 7ms/step - loss: 38.2455 - acc: 0.4533\n",
      "Epoch 2/100\n",
      "21/21 [==============================] - 0s 6ms/step - loss: 31.7924 - acc: 0.4533\n",
      "Epoch 3/100\n",
      "21/21 [==============================] - 0s 7ms/step - loss: 26.5351 - acc: 0.4533\n",
      "Epoch 4/100\n",
      "21/21 [==============================] - 0s 9ms/step - loss: 22.2207 - acc: 0.4533\n",
      "Epoch 5/100\n",
      "21/21 [==============================] - 0s 7ms/step - loss: 18.5771 - acc: 0.4533\n",
      "Epoch 6/100\n",
      "21/21 [==============================] - 0s 5ms/step - loss: 15.6224 - acc: 0.4533\n",
      "Epoch 7/100\n",
      "21/21 [==============================] - 0s 9ms/step - loss: 13.1941 - acc: 0.4533\n",
      "Epoch 8/100\n",
      "21/21 [==============================] - 0s 7ms/step - loss: 11.3588 - acc: 0.4533\n",
      "Epoch 9/100\n",
      "21/21 [==============================] - 0s 12ms/step - loss: 9.7292 - acc: 0.4548\n",
      "Epoch 10/100\n",
      "21/21 [==============================] - ETA: 0s - loss: 8.2905 - acc: 0.467 - 0s 9ms/step - loss: 8.3420 - acc: 0.4579\n",
      "Epoch 11/100\n",
      "21/21 [==============================] - 0s 6ms/step - loss: 7.1910 - acc: 0.4594\n",
      "Epoch 12/100\n",
      "21/21 [==============================] - 0s 14ms/step - loss: 6.1794 - acc: 0.4594\n",
      "Epoch 13/100\n",
      "21/21 [==============================] - 0s 5ms/step - loss: 5.3001 - acc: 0.4609\n",
      "Epoch 14/100\n",
      "21/21 [==============================] - 0s 7ms/step - loss: 4.5688 - acc: 0.4625\n",
      "Epoch 15/100\n",
      "21/21 [==============================] - 0s 9ms/step - loss: 3.9810 - acc: 0.4640\n",
      "Epoch 16/100\n",
      "21/21 [==============================] - 0s 3ms/step - loss: 3.5170 - acc: 0.4609\n",
      "Epoch 17/100\n",
      "21/21 [==============================] - 0s 10ms/step - loss: 3.1551 - acc: 0.4564\n",
      "Epoch 18/100\n",
      "21/21 [==============================] - 0s 12ms/step - loss: 2.8436 - acc: 0.4502: 0s - loss: 2.8359 - acc: 0.43\n",
      "Epoch 19/100\n",
      "21/21 [==============================] - 0s 5ms/step - loss: 2.5703 - acc: 0.4518\n",
      "Epoch 20/100\n",
      "21/21 [==============================] - 0s 6ms/step - loss: 2.3219 - acc: 0.4564\n",
      "Epoch 21/100\n",
      "21/21 [==============================] - 0s 15ms/step - loss: 2.1031 - acc: 0.4564\n",
      "Epoch 22/100\n",
      "21/21 [==============================] - 0s 7ms/step - loss: 1.9144 - acc: 0.4502\n",
      "Epoch 23/100\n",
      "21/21 [==============================] - 0s 4ms/step - loss: 1.7465 - acc: 0.4472\n",
      "Epoch 24/100\n",
      "21/21 [==============================] - 0s 10ms/step - loss: 1.6011 - acc: 0.4426\n",
      "Epoch 25/100\n",
      "21/21 [==============================] - 0s 5ms/step - loss: 1.4678 - acc: 0.4410\n",
      "Epoch 26/100\n",
      "21/21 [==============================] - 0s 7ms/step - loss: 1.3544 - acc: 0.4410\n",
      "Epoch 27/100\n",
      "21/21 [==============================] - 0s 11ms/step - loss: 1.2559 - acc: 0.4518: 0s - loss: 1.2407 - acc: 0.5\n",
      "Epoch 28/100\n",
      "21/21 [==============================] - 0s 7ms/step - loss: 1.1682 - acc: 0.4579\n",
      "Epoch 29/100\n",
      "21/21 [==============================] - 0s 10ms/step - loss: 1.0952 - acc: 0.4655\n",
      "Epoch 30/100\n",
      "21/21 [==============================] - 0s 7ms/step - loss: 1.0297 - acc: 0.4717\n",
      "Epoch 31/100\n",
      "21/21 [==============================] - 0s 8ms/step - loss: 0.9730 - acc: 0.4824\n",
      "Epoch 32/100\n",
      "21/21 [==============================] - 0s 4ms/step - loss: 0.9246 - acc: 0.4824\n",
      "Epoch 33/100\n",
      "21/21 [==============================] - 0s 13ms/step - loss: 0.8815 - acc: 0.5038\n",
      "Epoch 34/100\n",
      "21/21 [==============================] - 0s 11ms/step - loss: 0.8460 - acc: 0.5054\n",
      "Epoch 35/100\n",
      "21/21 [==============================] - 0s 3ms/step - loss: 0.8143 - acc: 0.5145\n",
      "Epoch 36/100\n",
      "21/21 [==============================] - 0s 5ms/step - loss: 0.7869 - acc: 0.5191\n",
      "Epoch 37/100\n",
      "21/21 [==============================] - 0s 12ms/step - loss: 0.7646 - acc: 0.5360\n",
      "Epoch 38/100\n",
      "21/21 [==============================] - 0s 8ms/step - loss: 0.7436 - acc: 0.5559\n",
      "Epoch 39/100\n",
      "21/21 [==============================] - 0s 11ms/step - loss: 0.7257 - acc: 0.5758\n",
      "Epoch 40/100\n",
      "21/21 [==============================] - 0s 9ms/step - loss: 0.7105 - acc: 0.5896\n",
      "Epoch 41/100\n",
      "21/21 [==============================] - 0s 4ms/step - loss: 0.6966 - acc: 0.5926\n",
      "Epoch 42/100\n",
      "21/21 [==============================] - 0s 7ms/step - loss: 0.6872 - acc: 0.5911\n",
      "Epoch 43/100\n",
      "21/21 [==============================] - 0s 11ms/step - loss: 0.6760 - acc: 0.6018\n",
      "Epoch 44/100\n",
      "21/21 [==============================] - 0s 5ms/step - loss: 0.6664 - acc: 0.6126\n",
      "Epoch 45/100\n",
      "21/21 [==============================] - 0s 8ms/step - loss: 0.6580 - acc: 0.6263\n",
      "Epoch 46/100\n",
      "21/21 [==============================] - 0s 7ms/step - loss: 0.6525 - acc: 0.6340\n",
      "Epoch 47/100\n",
      "21/21 [==============================] - 0s 8ms/step - loss: 0.6456 - acc: 0.6585\n",
      "Epoch 48/100\n",
      "21/21 [==============================] - 0s 7ms/step - loss: 0.6408 - acc: 0.6554\n",
      "Epoch 49/100\n",
      "21/21 [==============================] - 0s 5ms/step - loss: 0.6351 - acc: 0.6570\n",
      "Epoch 50/100\n",
      "21/21 [==============================] - 0s 11ms/step - loss: 0.6302 - acc: 0.6616\n",
      "Epoch 51/100\n",
      "21/21 [==============================] - 0s 6ms/step - loss: 0.6267 - acc: 0.6723\n",
      "Epoch 52/100\n",
      "21/21 [==============================] - 0s 5ms/step - loss: 0.6235 - acc: 0.6753\n",
      "Epoch 53/100\n",
      "21/21 [==============================] - 0s 6ms/step - loss: 0.6189 - acc: 0.6891\n",
      "Epoch 54/100\n",
      "21/21 [==============================] - 0s 5ms/step - loss: 0.6163 - acc: 0.6876\n",
      "Epoch 55/100\n",
      "21/21 [==============================] - 0s 10ms/step - loss: 0.6156 - acc: 0.6922\n",
      "Epoch 56/100\n",
      "21/21 [==============================] - 0s 10ms/step - loss: 0.6096 - acc: 0.6937: 0s - loss: 0.5974 - acc: 0.7\n",
      "Epoch 57/100\n",
      "21/21 [==============================] - 0s 4ms/step - loss: 0.6094 - acc: 0.6861\n",
      "Epoch 58/100\n",
      "21/21 [==============================] - 0s 13ms/step - loss: 0.6055 - acc: 0.6891\n",
      "Epoch 59/100\n",
      "21/21 [==============================] - 0s 7ms/step - loss: 0.6048 - acc: 0.6953\n",
      "Epoch 60/100\n",
      "21/21 [==============================] - 0s 10ms/step - loss: 0.6018 - acc: 0.6922\n",
      "Epoch 61/100\n",
      "21/21 [==============================] - 0s 9ms/step - loss: 0.6002 - acc: 0.6983\n",
      "Epoch 62/100\n",
      "21/21 [==============================] - 0s 8ms/step - loss: 0.5988 - acc: 0.7014\n",
      "Epoch 63/100\n",
      "21/21 [==============================] - 0s 9ms/step - loss: 0.5981 - acc: 0.7014\n",
      "Epoch 64/100\n",
      "21/21 [==============================] - 0s 8ms/step - loss: 0.5973 - acc: 0.7014\n",
      "Epoch 65/100\n",
      "21/21 [==============================] - 0s 4ms/step - loss: 0.5963 - acc: 0.6983\n",
      "Epoch 66/100\n",
      "21/21 [==============================] - 0s 6ms/step - loss: 0.5957 - acc: 0.7014\n",
      "Epoch 67/100\n",
      "21/21 [==============================] - 0s 6ms/step - loss: 0.5955 - acc: 0.7029\n",
      "Epoch 68/100\n",
      "21/21 [==============================] - 0s 9ms/step - loss: 0.5944 - acc: 0.6983\n",
      "Epoch 69/100\n",
      "21/21 [==============================] - 0s 4ms/step - loss: 0.5940 - acc: 0.7014\n",
      "Epoch 70/100\n",
      "21/21 [==============================] - 0s 9ms/step - loss: 0.5918 - acc: 0.7014\n",
      "Epoch 71/100\n",
      "21/21 [==============================] - 0s 10ms/step - loss: 0.5931 - acc: 0.6968\n",
      "Epoch 72/100\n",
      "21/21 [==============================] - 0s 6ms/step - loss: 0.5904 - acc: 0.7029\n",
      "Epoch 73/100\n",
      "21/21 [==============================] - 0s 11ms/step - loss: 0.5906 - acc: 0.6998\n",
      "Epoch 74/100\n",
      "21/21 [==============================] - 0s 7ms/step - loss: 0.5897 - acc: 0.7014\n",
      "Epoch 75/100\n",
      "21/21 [==============================] - 0s 7ms/step - loss: 0.5889 - acc: 0.7014\n",
      "Epoch 76/100\n",
      "21/21 [==============================] - 0s 5ms/step - loss: 0.5903 - acc: 0.7044\n",
      "Epoch 77/100\n",
      "21/21 [==============================] - 0s 7ms/step - loss: 0.5885 - acc: 0.6998\n",
      "Epoch 78/100\n",
      "21/21 [==============================] - 0s 8ms/step - loss: 0.5873 - acc: 0.7014\n",
      "Epoch 79/100\n",
      "21/21 [==============================] - 0s 11ms/step - loss: 0.5870 - acc: 0.7044\n",
      "Epoch 80/100\n",
      "21/21 [==============================] - 0s 6ms/step - loss: 0.5880 - acc: 0.7060A: 0s - loss: 0.6041 - acc: 0.71\n",
      "Epoch 81/100\n",
      "21/21 [==============================] - 0s 10ms/step - loss: 0.5862 - acc: 0.7075\n",
      "Epoch 82/100\n",
      "21/21 [==============================] - 0s 4ms/step - loss: 0.5847 - acc: 0.7060\n",
      "Epoch 83/100\n",
      "21/21 [==============================] - 0s 7ms/step - loss: 0.5842 - acc: 0.7044\n",
      "Epoch 84/100\n",
      "21/21 [==============================] - 0s 8ms/step - loss: 0.5839 - acc: 0.7014\n",
      "Epoch 85/100\n"
     ]
    },
    {
     "name": "stdout",
     "output_type": "stream",
     "text": [
      "21/21 [==============================] - 0s 4ms/step - loss: 0.5836 - acc: 0.7014\n",
      "Epoch 86/100\n",
      "21/21 [==============================] - 0s 7ms/step - loss: 0.5836 - acc: 0.7060\n",
      "Epoch 87/100\n",
      "21/21 [==============================] - 0s 9ms/step - loss: 0.5835 - acc: 0.7029\n",
      "Epoch 88/100\n",
      "21/21 [==============================] - 0s 5ms/step - loss: 0.5821 - acc: 0.7029\n",
      "Epoch 89/100\n",
      "21/21 [==============================] - 0s 5ms/step - loss: 0.5818 - acc: 0.7121\n",
      "Epoch 90/100\n",
      "21/21 [==============================] - 0s 6ms/step - loss: 0.5807 - acc: 0.7121\n",
      "Epoch 91/100\n",
      "21/21 [==============================] - 0s 5ms/step - loss: 0.5802 - acc: 0.7136\n",
      "Epoch 92/100\n",
      "21/21 [==============================] - 0s 7ms/step - loss: 0.5805 - acc: 0.7167\n",
      "Epoch 93/100\n",
      "21/21 [==============================] - 0s 8ms/step - loss: 0.5802 - acc: 0.7121\n",
      "Epoch 94/100\n",
      "21/21 [==============================] - 0s 7ms/step - loss: 0.5789 - acc: 0.7152\n",
      "Epoch 95/100\n",
      "21/21 [==============================] - 0s 4ms/step - loss: 0.5786 - acc: 0.7121\n",
      "Epoch 96/100\n",
      "21/21 [==============================] - 0s 4ms/step - loss: 0.5765 - acc: 0.7182\n",
      "Epoch 97/100\n",
      "21/21 [==============================] - 0s 9ms/step - loss: 0.5768 - acc: 0.7198\n",
      "Epoch 98/100\n",
      "21/21 [==============================] - 0s 12ms/step - loss: 0.5760 - acc: 0.7136: 0s - loss: 0.5874 - acc: 0.70\n",
      "Epoch 99/100\n",
      "21/21 [==============================] - 0s 10ms/step - loss: 0.5692 - acc: 0.7259\n",
      "Epoch 100/100\n",
      "21/21 [==============================] - 0s 5ms/step - loss: 0.5675 - acc: 0.7274\n"
     ]
    }
   ],
   "source": [
    "history = model.fit(x, y, epochs=100)"
   ]
  },
  {
   "cell_type": "code",
   "execution_count": 37,
   "metadata": {},
   "outputs": [
    {
     "data": {
      "text/plain": [
       "dict_keys(['loss', 'acc'])"
      ]
     },
     "execution_count": 37,
     "metadata": {},
     "output_type": "execute_result"
    }
   ],
   "source": [
    "history.history.keys()"
   ]
  },
  {
   "cell_type": "code",
   "execution_count": 43,
   "metadata": {},
   "outputs": [
    {
     "data": {
      "text/plain": [
       "[<matplotlib.lines.Line2D at 0x7fd5a50f80a0>]"
      ]
     },
     "execution_count": 43,
     "metadata": {},
     "output_type": "execute_result"
    },
    {
     "data": {
      "image/png": "[encoded data removed]",
      "text/plain": [
       "<Figure size 432x288 with 1 Axes>"
      ]
     },
     "metadata": {
      "needs_background": "light"
     },
     "output_type": "display_data"
    }
   ],
   "source": [
    "plt.plot(history.epoch, history.history.get(\"loss\"))"
   ]
  },
  {
   "cell_type": "code",
   "execution_count": 48,
   "metadata": {},
   "outputs": [
    {
     "data": {
      "text/plain": [
       "[<matplotlib.lines.Line2D at 0x7fd5a52b8eb0>]"
      ]
     },
     "execution_count": 48,
     "metadata": {},
     "output_type": "execute_result"
    },
    {
     "data": {
      "image/png": "[encoded data removed]",
      "text/plain": [
       "<Figure size 432x288 with 1 Axes>"
      ]
     },
     "metadata": {
      "needs_background": "light"
     },
     "output_type": "display_data"
    }
   ],
   "source": [
    "plt.plot(range(100), history.history.get(\"acc\"))"
   ]
  },
  {
   "cell_type": "code",
   "execution_count": null,
   "metadata": {},
   "outputs": [],
   "source": []
  }
 ],
 "metadata": {
  "kernelspec": {
   "display_name": "Python 3",
   "language": "python",
   "name": "python3"
  },
  "language_info": {
   "codemirror_mode": {
    "name": "ipython",
    "version": 3
   },
   "file_extension": ".py",
   "mimetype": "text/x-python",
   "name": "python",
   "nbconvert_exporter": "python",
   "pygments_lexer": "ipython3",
   "version": "3.8.3"
  }
 },
 "nbformat": 4,
 "nbformat_minor": 4
}
